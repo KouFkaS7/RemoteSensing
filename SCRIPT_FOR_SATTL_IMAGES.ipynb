{
  "nbformat": 4,
  "nbformat_minor": 0,
  "metadata": {
    "colab": {
      "provenance": [],
      "authorship_tag": "ABX9TyPGToGzZs4Qx04Sto9qg3FY",
      "include_colab_link": true
    },
    "kernelspec": {
      "name": "python3",
      "display_name": "Python 3"
    },
    "language_info": {
      "name": "python"
    }
  },
  "cells": [
    {
      "cell_type": "markdown",
      "metadata": {
        "id": "view-in-github",
        "colab_type": "text"
      },
      "source": [
        "<a href=\"https://colab.research.google.com/github/KouFkaS7/RemoteSensing/blob/main/SCRIPT_FOR_SATTL_IMAGES.ipynb\" target=\"_parent\"><img src=\"https://colab.research.google.com/assets/colab-badge.svg\" alt=\"Open In Colab\"/></a>"
      ]
    },
    {
      "cell_type": "code",
      "execution_count": null,
      "metadata": {
        "id": "GVsjWdPuQ6jR"
      },
      "outputs": [],
      "source": [
        "import ee"
      ]
    },
    {
      "cell_type": "code",
      "source": [
        "from IPython.display import Image\n",
        "import pandas as pd"
      ],
      "metadata": {
        "id": "GZ2XyzZugMN-"
      },
      "execution_count": null,
      "outputs": []
    },
    {
      "cell_type": "code",
      "source": [
        "ee.Authenticate()\n",
        "ee.Initialize()"
      ],
      "metadata": {
        "id": "ooYnDX1EuP2L"
      },
      "execution_count": null,
      "outputs": []
    },
    {
      "cell_type": "code",
      "source": [
        "lat = 42.41034651876048\n",
        "long = -85.37043296712605\n",
        "\n",
        "poi = ee.Geometry.Point(long,lat)\n",
        "\n",
        "start_date = '2000-09-01'\n",
        "\n",
        "end_date = '2001-09-01'\n",
        "\n",
        "landsat = ee.ImageCollection(\"LANDSAT/LE07/C02/T1_L2\")\\\n",
        "    .filterBounds(poi)\\\n",
        "        .filterDate(start_date,end_date)\n",
        "\n",
        "# number of images\n",
        "\n",
        "print(\"Σύνολο εικόνων:\", landsat.size().getInfo())\n",
        "\n",
        "landsat_list = landsat.toList(landsat.size())\n",
        "\n",
        "\n",
        "parametrs = {\n",
        "    'min':7000,\n",
        "    'max':16000,\n",
        "    'dimensions': 800,\n",
        "    \"bands\": ['SR_B3','SR_B2','SR_B1']\n",
        "    }\n",
        "\n",
        "\n",
        "\n",
        "data = []\n",
        "\n",
        "\n",
        "\n",
        "for i in range(landsat.size().getInfo()):\n",
        "\n",
        "    date = ee.Image(landsat_list.get(i)).get('DATE_ACQUIRED').getInfo()\n",
        "\n",
        "    cloud = ee.Image(landsat_list.get(i)).get('CLOUD_COVER').getInfo()\n",
        "\n",
        "    print(i,date,cloud)\n",
        "\n",
        "    display(Image(url=ee.Image(landsat_list.get(i)).getThumbUrl(parametrs)))\n",
        "\n",
        "\n",
        "    data_list = [i,date,cloud]\n",
        "\n",
        "    data.append(data_list)\n",
        "\n",
        "dataframe = pd.DataFrame(data,columns =['Image','Date','Cloud Cover'])"
      ],
      "metadata": {
        "id": "wA4r1QHwRbZ2"
      },
      "execution_count": null,
      "outputs": []
    },
    {
      "cell_type": "code",
      "source": [
        "for i in range(landsat.size().getInfo()):\n",
        "\n",
        "    date = ee.Image(landsat_list.get(i)).get('DATE_ACQUIRED').getInfo()\n",
        "\n",
        "    cloud = ee.Image(landsat_list.get(i)).get('CLOUD_COVER').getInfo()\n",
        "\n",
        "    print(i,date,cloud)\n",
        "\n",
        "    display(Image(url =  ee.Image(landsat_list.get(i)).getThumbUrl(parametrs1)))"
      ],
      "metadata": {
        "id": "0u_Fk-3qVaKr"
      },
      "execution_count": null,
      "outputs": []
    },
    {
      "cell_type": "code",
      "source": [
        "print(dataframe)"
      ],
      "metadata": {
        "colab": {
          "base_uri": "https://localhost:8080/"
        },
        "id": "w8j4zIzETaX8",
        "outputId": "7a857581-f045-49ba-b2ee-0c2ad25813e9"
      },
      "execution_count": null,
      "outputs": [
        {
          "output_type": "stream",
          "name": "stdout",
          "text": [
            "    Image        Date  Cloud Cover\n",
            "0       0  2000-09-26           19\n",
            "1       1  2000-10-28            4\n",
            "2       2  2000-12-31           73\n",
            "3       3  2001-02-01           81\n",
            "4       4  2001-02-17           66\n",
            "5       5  2001-03-05           77\n",
            "6       6  2001-03-21            5\n",
            "7       7  2001-05-08            1\n",
            "8       8  2001-06-09            1\n",
            "9       9  2001-06-25            8\n",
            "10     10  2001-07-11            1\n",
            "11     11  2001-07-27            6\n",
            "12     12  2001-08-12           43\n",
            "13     13  2001-08-28           20\n"
          ]
        }
      ]
    },
    {
      "cell_type": "code",
      "source": [
        "for i in pick_images:\n",
        "  date=ee.Image(landsat_list.get(i)).get('DATE_ACQUIRED').getInfo()\n",
        "  print(i,date)\n",
        "  display(Image(url =  ee.Image(landsat_list.get(i)).normalizedDifference(['SR_B4','SR_B3']).getThumbUrl(ndvi_parameters)))"
      ],
      "metadata": {
        "id": "RICtrhMIj8Su"
      },
      "execution_count": null,
      "outputs": []
    },
    {
      "cell_type": "code",
      "source": [
        "buffer = poi.buffer(2500)"
      ],
      "metadata": {
        "id": "3J6K5pmETz4s"
      },
      "execution_count": null,
      "outputs": []
    },
    {
      "cell_type": "code",
      "source": [
        "clipped_collection = landsat.map(lambda image: image.clip(polygon))"
      ],
      "metadata": {
        "id": "J-0vFveMtOcD"
      },
      "execution_count": null,
      "outputs": []
    },
    {
      "cell_type": "code",
      "source": [
        "polygon = ee.Geometry.Polygon([[42.2456,-85.2245], [42.2418,-85.2242],[42.2418,-85.2157],[42.2457,-852200]])"
      ],
      "metadata": {
        "id": "bZwLbYQUo1PM"
      },
      "execution_count": null,
      "outputs": []
    },
    {
      "cell_type": "code",
      "source": [
        "pick_images = [0,1,6,7,8,9,10,11,13]"
      ],
      "metadata": {
        "id": "qvG3MV6blRE_"
      },
      "execution_count": null,
      "outputs": []
    },
    {
      "cell_type": "code",
      "source": [
        "palette = ['red','yellow','green']\n",
        "\n",
        "ndvi_parameters = {\n",
        "    'min':0,\n",
        "    'max':0.4,\n",
        "    'dimensions':512,\n",
        "    'palette': palette,\n",
        "    'region': polygon\n",
        "}"
      ],
      "metadata": {
        "id": "az2zq4q0jaod"
      },
      "execution_count": null,
      "outputs": []
    },
    {
      "cell_type": "code",
      "source": [
        "polygon = ee.Geometry.Polygon([[42.2456,-85.2245], [42.2418,-85.2242],[42.2418,-85.2157],[42.2457,-852200]])\n",
        "\n",
        "parametrs1 = {\n",
        "    'min':7000,\n",
        "    'max':16000,\n",
        "    'dimensions': 800,\n",
        "    \"bands\": ['SR_B3','SR_B2','SR_B1'],\n",
        "    'region' : polygon\n",
        "    }\n"
      ],
      "metadata": {
        "id": "0aov2gTUUgbq"
      },
      "execution_count": null,
      "outputs": []
    },
    {
      "cell_type": "code",
      "source": [
        "ndvi_collection = clipped_collection.map(lambda image: image.normalizedDifference(['sur_refl_b01', 'sur_refl_b02']).rename('NDVI'))"
      ],
      "metadata": {
        "id": "HeBmORlvtbuu"
      },
      "execution_count": null,
      "outputs": []
    },
    {
      "cell_type": "code",
      "source": [
        "mean_ndvi = ndvi_collection.mean()"
      ],
      "metadata": {
        "id": "pMIuvftZwPll"
      },
      "execution_count": null,
      "outputs": []
    },
    {
      "cell_type": "code",
      "source": [
        "avg_annual_ndvi = mean_ndvi.get('NDVI')"
      ],
      "metadata": {
        "id": "EuRQSuiBw2HC"
      },
      "execution_count": null,
      "outputs": []
    },
    {
      "cell_type": "markdown",
      "source": [],
      "metadata": {
        "id": "oo62AlWzRag-"
      }
    }
  ]
}